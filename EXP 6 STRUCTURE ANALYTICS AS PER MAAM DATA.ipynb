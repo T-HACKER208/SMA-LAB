{
  "nbformat": 4,
  "nbformat_minor": 0,
  "metadata": {
    "colab": {
      "provenance": []
    },
    "kernelspec": {
      "name": "python3",
      "display_name": "Python 3"
    },
    "language_info": {
      "name": "python"
    }
  },
  "cells": [
    {
      "cell_type": "code",
      "execution_count": 38,
      "metadata": {
        "id": "oc2Q7N-JUKOi"
      },
      "outputs": [],
      "source": [
        "import pandas as pd\n",
        "import networkx as nx"
      ]
    },
    {
      "cell_type": "code",
      "source": [
        "pip install fin-news"
      ],
      "metadata": {
        "colab": {
          "base_uri": "https://localhost:8080/"
        },
        "id": "5aPUn_8QVflg",
        "outputId": "db3aea58-7398-47eb-fffd-716b660fc21a"
      },
      "execution_count": 39,
      "outputs": [
        {
          "output_type": "stream",
          "name": "stdout",
          "text": [
            "Requirement already satisfied: fin-news in /usr/local/lib/python3.10/dist-packages (0.1.2)\n",
            "Requirement already satisfied: requests>=2.24.0 in /usr/local/lib/python3.10/dist-packages (from fin-news) (2.31.0)\n",
            "Requirement already satisfied: fake-useragent==0.1.11 in /usr/local/lib/python3.10/dist-packages (from fin-news) (0.1.11)\n",
            "Requirement already satisfied: charset-normalizer<4,>=2 in /usr/local/lib/python3.10/dist-packages (from requests>=2.24.0->fin-news) (3.3.2)\n",
            "Requirement already satisfied: idna<4,>=2.5 in /usr/local/lib/python3.10/dist-packages (from requests>=2.24.0->fin-news) (3.7)\n",
            "Requirement already satisfied: urllib3<3,>=1.21.1 in /usr/local/lib/python3.10/dist-packages (from requests>=2.24.0->fin-news) (2.0.7)\n",
            "Requirement already satisfied: certifi>=2017.4.17 in /usr/local/lib/python3.10/dist-packages (from requests>=2.24.0->fin-news) (2024.2.2)\n"
          ]
        }
      ]
    },
    {
      "cell_type": "code",
      "source": [
        "pip install network\n"
      ],
      "metadata": {
        "colab": {
          "base_uri": "https://localhost:8080/"
        },
        "id": "AaeMw7iiViYA",
        "outputId": "058bf45c-fa01-4bde-ff9c-5731b8e7dba0"
      },
      "execution_count": 40,
      "outputs": [
        {
          "output_type": "stream",
          "name": "stdout",
          "text": [
            "Requirement already satisfied: network in /usr/local/lib/python3.10/dist-packages (0.1)\n"
          ]
        }
      ]
    },
    {
      "cell_type": "code",
      "source": [
        "import networkx\n",
        "G=networkx.Graph()\n",
        "G.add_node('A')\n",
        "G.add_node('B')\n",
        "G.add_node('C')\n",
        "G.add_node('D')\n",
        "G.add_node('E')\n",
        "G.add_node('F')\n",
        "G.add_node('G')\n",
        "G.add_node('H')\n"
      ],
      "metadata": {
        "id": "JPKr-M4zVkiv"
      },
      "execution_count": 41,
      "outputs": []
    },
    {
      "cell_type": "code",
      "source": [
        "G.add_edge('A','B')\n",
        "G.add_edge('B','A')\n",
        "G.add_edge('B','C')\n",
        "G.add_edge('C','B')\n",
        "G.add_edge('B','D')\n",
        "G.add_edge('D','B')\n",
        "G.add_edge('C','E')\n",
        "G.add_edge('E','C')\n",
        "G.add_edge('E','D')\n",
        "G.add_edge('D','E')\n",
        "G.add_edge('E','H')\n",
        "G.add_edge('H','E')\n",
        "G.add_edge('E','G')\n",
        "G.add_edge('G','E')\n",
        "G.add_edge('E','F')\n",
        "G.add_edge('F','E')\n",
        "G.add_edge('H','G')\n",
        "G.add_edge('G','H')\n",
        "G.add_edge('D','G')\n",
        "G.add_edge('G','D')"
      ],
      "metadata": {
        "id": "ua3tGAE7VnjJ"
      },
      "execution_count": 42,
      "outputs": []
    },
    {
      "cell_type": "code",
      "source": [
        "G.edges()"
      ],
      "metadata": {
        "colab": {
          "base_uri": "https://localhost:8080/"
        },
        "id": "KthO8qzXVr3f",
        "outputId": "ba28a97c-5722-4c45-d01c-c91d2afc18f2"
      },
      "execution_count": 43,
      "outputs": [
        {
          "output_type": "execute_result",
          "data": {
            "text/plain": [
              "EdgeView([('A', 'B'), ('B', 'C'), ('B', 'D'), ('C', 'E'), ('D', 'E'), ('D', 'G'), ('E', 'H'), ('E', 'G'), ('E', 'F'), ('G', 'H')])"
            ]
          },
          "metadata": {},
          "execution_count": 43
        }
      ]
    },
    {
      "cell_type": "code",
      "source": [
        "nx.draw(G,with_labels=1)"
      ],
      "metadata": {
        "colab": {
          "base_uri": "https://localhost:8080/",
          "height": 516
        },
        "id": "lSSovXGrah9u",
        "outputId": "752d3d66-2811-4a12-ca8c-572883f8f99d"
      },
      "execution_count": 44,
      "outputs": [
        {
          "output_type": "display_data",
          "data": {
            "text/plain": [
              "<Figure size 640x480 with 1 Axes>"
            ],
            "image/png": "[encoded data removed]"
          },
          "metadata": {}
        }
      ]
    },
    {
      "cell_type": "code",
      "source": [
        "nx.degree_centrality(G)"
      ],
      "metadata": {
        "colab": {
          "base_uri": "https://localhost:8080/"
        },
        "id": "RSJfdHwZaoW_",
        "outputId": "cd53cee6-3c70-4ad5-c318-24c0e030e233"
      },
      "execution_count": 45,
      "outputs": [
        {
          "output_type": "execute_result",
          "data": {
            "text/plain": [
              "{'A': 0.14285714285714285,\n",
              " 'B': 0.42857142857142855,\n",
              " 'C': 0.2857142857142857,\n",
              " 'D': 0.42857142857142855,\n",
              " 'E': 0.7142857142857142,\n",
              " 'F': 0.14285714285714285,\n",
              " 'G': 0.42857142857142855,\n",
              " 'H': 0.2857142857142857}"
            ]
          },
          "metadata": {},
          "execution_count": 45
        }
      ]
    },
    {
      "cell_type": "code",
      "source": [
        "import matplotlib.pyplot as plt\n",
        "import networkx as nx\n",
        "G=nx.Graph()\n",
        "G.add_nodes_from(['A','B','C','D','E','F','G','H'])\n",
        "G.add_edges_from([('A', 'B'), ('B', 'C'), ('B', 'D'), ('C', 'E'), ('D', 'E'), ('D', 'G'), ('E', 'H'), ('E', 'G'), ('E', 'F'), ('G', 'H')])"
      ],
      "metadata": {
        "id": "9vR00ynGasB_"
      },
      "execution_count": 46,
      "outputs": []
    },
    {
      "cell_type": "code",
      "source": [
        "nx.draw(G,with_labels=True,node_color=\"orange\",node_size=3000,font_color=\"White\")\n",
        "plt.margins(0.2)\n",
        "plt.show()"
      ],
      "metadata": {
        "colab": {
          "base_uri": "https://localhost:8080/",
          "height": 516
        },
        "id": "x3Gm301Aasn2",
        "outputId": "fc37ba96-4fb0-4550-c897-181e0bd1ac3e"
      },
      "execution_count": 47,
      "outputs": [
        {
          "output_type": "display_data",
          "data": {
            "text/plain": [
              "<Figure size 640x480 with 1 Axes>"
            ],
            "image/png": "[encoded data removed]"
          },
          "metadata": {}
        }
      ]
    },
    {
      "cell_type": "code",
      "source": [
        "nx.degree_centrality(G)"
      ],
      "metadata": {
        "colab": {
          "base_uri": "https://localhost:8080/"
        },
        "id": "hKFErytFdPWF",
        "outputId": "06063f91-ad92-4199-877a-b7f7edeae17c"
      },
      "execution_count": 48,
      "outputs": [
        {
          "output_type": "execute_result",
          "data": {
            "text/plain": [
              "{'A': 0.14285714285714285,\n",
              " 'B': 0.42857142857142855,\n",
              " 'C': 0.2857142857142857,\n",
              " 'D': 0.42857142857142855,\n",
              " 'E': 0.7142857142857142,\n",
              " 'F': 0.14285714285714285,\n",
              " 'G': 0.42857142857142855,\n",
              " 'H': 0.2857142857142857}"
            ]
          },
          "metadata": {},
          "execution_count": 48
        }
      ]
    },
    {
      "cell_type": "code",
      "source": [
        "nx.degree(G)"
      ],
      "metadata": {
        "colab": {
          "base_uri": "https://localhost:8080/"
        },
        "id": "t1CV4nQYdTWW",
        "outputId": "95c7976c-fd2d-4928-d13e-5893f6166e17"
      },
      "execution_count": 49,
      "outputs": [
        {
          "output_type": "execute_result",
          "data": {
            "text/plain": [
              "DegreeView({'A': 1, 'B': 3, 'C': 2, 'D': 3, 'E': 5, 'F': 1, 'G': 3, 'H': 2})"
            ]
          },
          "metadata": {},
          "execution_count": 49
        }
      ]
    },
    {
      "cell_type": "code",
      "source": [
        "m_influential=nx.degree_centrality(G)\n",
        "nx.eigenvector_centrality(G)\n"
      ],
      "metadata": {
        "colab": {
          "base_uri": "https://localhost:8080/"
        },
        "id": "ljSZYU6tdXcW",
        "outputId": "e1880ae2-61fa-4e28-b00d-7bb870d0e6c5"
      },
      "execution_count": 50,
      "outputs": [
        {
          "output_type": "execute_result",
          "data": {
            "text/plain": [
              "{'A': 0.0892314798120002,\n",
              " 'B': 0.2660740286403953,\n",
              " 'C': 0.27754341242731234,\n",
              " 'D': 0.4266201277775895,\n",
              " 'E': 0.5615233897735086,\n",
              " 'F': 0.18831193261533638,\n",
              " 'G': 0.4445292724700449,\n",
              " 'H': 0.33738864796561363}"
            ]
          },
          "metadata": {},
          "execution_count": 50
        }
      ]
    },
    {
      "cell_type": "code",
      "source": [
        "nx.betweenness_centrality(G)"
      ],
      "metadata": {
        "colab": {
          "base_uri": "https://localhost:8080/"
        },
        "id": "io7ztafadZ-X",
        "outputId": "b3e975bd-4f07-419e-e4d3-9fa208b1171a"
      },
      "execution_count": 51,
      "outputs": [
        {
          "output_type": "execute_result",
          "data": {
            "text/plain": [
              "{'A': 0.0,\n",
              " 'B': 0.30952380952380953,\n",
              " 'C': 0.12698412698412698,\n",
              " 'D': 0.25396825396825395,\n",
              " 'E': 0.492063492063492,\n",
              " 'F': 0.0,\n",
              " 'G': 0.055555555555555546,\n",
              " 'H': 0.0}"
            ]
          },
          "metadata": {},
          "execution_count": 51
        }
      ]
    },
    {
      "cell_type": "code",
      "source": [
        "list(nx.find_cliques(G))"
      ],
      "metadata": {
        "colab": {
          "base_uri": "https://localhost:8080/"
        },
        "id": "dG4bn77Hddqu",
        "outputId": "c7eb4bce-e0a9-4b62-b17f-4baf0a22e61f"
      },
      "execution_count": 52,
      "outputs": [
        {
          "output_type": "execute_result",
          "data": {
            "text/plain": [
              "[['E', 'C'],\n",
              " ['E', 'G', 'D'],\n",
              " ['E', 'G', 'H'],\n",
              " ['E', 'F'],\n",
              " ['B', 'D'],\n",
              " ['B', 'C'],\n",
              " ['B', 'A']]"
            ]
          },
          "metadata": {},
          "execution_count": 52
        }
      ]
    },
    {
      "cell_type": "code",
      "source": [
        "hub_ego = nx.ego_graph(G, 'E')\n",
        "pos = nx.spring_layout(G)\n",
        "nx.draw(hub_ego, pos, node_color=\"lavender\", node_size=800, with_labels=True)\n",
        "nx.draw_networkx_nodes(hub_ego, pos, nodelist=['E'], node_color='red', node_size=800)\n",
        "plt.show()"
      ],
      "metadata": {
        "colab": {
          "base_uri": "https://localhost:8080/",
          "height": 516
        },
        "id": "FxBzdS28dfgm",
        "outputId": "01f81843-63ba-4892-ab49-62081e504689"
      },
      "execution_count": 53,
      "outputs": [
        {
          "output_type": "display_data",
          "data": {
            "text/plain": [
              "<Figure size 640x480 with 1 Axes>"
            ],
            "image/png": "[encoded data removed]"
          },
          "metadata": {}
        }
      ]
    },
    {
      "cell_type": "code",
      "source": [
        "nx.density(G)"
      ],
      "metadata": {
        "colab": {
          "base_uri": "https://localhost:8080/"
        },
        "id": "jcChkdAMdmXu",
        "outputId": "5ad3867c-2cb0-4b91-a987-17fbb33c8cbe"
      },
      "execution_count": 54,
      "outputs": [
        {
          "output_type": "execute_result",
          "data": {
            "text/plain": [
              "0.35714285714285715"
            ]
          },
          "metadata": {},
          "execution_count": 54
        }
      ]
    },
    {
      "cell_type": "code",
      "source": [
        "nx.has_bridges(G)"
      ],
      "metadata": {
        "colab": {
          "base_uri": "https://localhost:8080/"
        },
        "id": "HyO3-2n-dult",
        "outputId": "9bd81a6b-2255-4e21-9c83-7082077be17d"
      },
      "execution_count": 55,
      "outputs": [
        {
          "output_type": "execute_result",
          "data": {
            "text/plain": [
              "True"
            ]
          },
          "metadata": {},
          "execution_count": 55
        }
      ]
    },
    {
      "cell_type": "code",
      "source": [
        "nx.closeness_centrality(G)"
      ],
      "metadata": {
        "colab": {
          "base_uri": "https://localhost:8080/"
        },
        "id": "HjUFEJuCdw81",
        "outputId": "8722b0a8-c1e3-4b90-8d7d-5ca1131a766f"
      },
      "execution_count": 56,
      "outputs": [
        {
          "output_type": "execute_result",
          "data": {
            "text/plain": [
              "{'A': 0.3684210526315789,\n",
              " 'B': 0.5384615384615384,\n",
              " 'C': 0.5833333333333334,\n",
              " 'D': 0.6363636363636364,\n",
              " 'E': 0.7,\n",
              " 'F': 0.4375,\n",
              " 'G': 0.5833333333333334,\n",
              " 'H': 0.4666666666666667}"
            ]
          },
          "metadata": {},
          "execution_count": 56
        }
      ]
    }
  ]
}